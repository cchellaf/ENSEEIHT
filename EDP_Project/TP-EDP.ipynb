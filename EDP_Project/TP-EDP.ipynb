{
 "cells": [
  {
   "cell_type": "code",
   "execution_count": 1,
   "metadata": {},
   "outputs": [],
   "source": [
    "import matplotlib.pyplot as plt\n",
    "import mpl_toolkits.mplot3d\n",
    "import numpy as np\n",
    "import scipy.sparse as scps\n",
    "import scipy.sparse.linalg as ssl\n",
    "import math"
   ]
  },
  {
   "cell_type": "code",
   "execution_count": 2,
   "metadata": {},
   "outputs": [],
   "source": [
    "def maillage(n):\n",
    "#\n",
    "# Une discretisation possible d'une EDP elliptique sur le domaine ]0,1[ x ]0,1[\n",
    "# Le carre [0,1]x[0,1] est maille uniquement avec des triangles; \n",
    "# Les conditions limites sont de type Dirichlet uniquement   => neumann  =[];\n",
    "#\n",
    "# Entrees :\n",
    "# n : nombre de points par cote du care => Npts points de discretisation au\n",
    "# total\n",
    "#\n",
    "# Sorties :\n",
    "# coordinates : matrice a deux colonnes. Chaque ligne contient les \n",
    "# coordonnes 2D d'un des points de la discretisation. Ces sommets seront \n",
    "# identifies a l'indice de la ligne correspondante dans la matrice\n",
    "# coordinates.\n",
    "# elements3 : matrice a trois colonnes. Chaque ligne contient les indices \n",
    "# des sommets d'un element triangle, dans le sens antihoraire. \n",
    "# dirichlet : vecteur colonne des indices des sommets de la frontiere de\n",
    "# Dirichlet.\n",
    "# neumann : matrice a deux colonnes. Chaque ligne contient les indices \n",
    "# des deux sommets d'une arete de la frontiere de Neumann.\n",
    "# (neumann est vide sur cet exemple)\n",
    "#\n",
    "##################################################################################\n",
    "    h=1/(n-1)\n",
    "    npoin       = n*n ; \n",
    "    nelem       = 2*(n-1)*(n-1) ;\n",
    "    coordinates = np.zeros((npoin,2)); \n",
    "    elements3   = (np.zeros((nelem,3))).astype(int) ;\n",
    "    neumann     = [];\n",
    "    dirichlet=(np.zeros((4*n-4,1))).astype(int)\n",
    "    # Coordonnees et connectivites :\n",
    "    e = -1 ; \n",
    "    p = -1 ;\n",
    "    x=np.zeros((n+1,1))\n",
    "    x[n,0]=1.\n",
    "    for l in range (n+1):\n",
    "        x[l,0]=l*h\n",
    "    for j in range (n):\n",
    "            for i in range(n):\n",
    "                p = p + 1  \n",
    "                coordinates[p,0] = x[i,0]  \n",
    "                coordinates[p,1] = x[j,0] \n",
    "                if ((i != n-1) & (j != n-1)):\n",
    "                    p1 = p\n",
    "                    p2 = p1 + 1 \n",
    "                    p3 = p1 + n \n",
    "                    p4 = p2 + n \n",
    "                    e = e + 1 \n",
    "                    elements3[e,0] = p1 \n",
    "                    elements3[e,1] = p2 \n",
    "                    elements3[e,2] = p3 \n",
    "                    e = e + 1\n",
    "                    elements3[e,0] = p4 \n",
    "                    elements3[e,1] = p3 \n",
    "                    elements3[e,2] = p2 \n",
    "    #Liste des sommets de la frontiere de Dirichlet:\n",
    "    p=-1\n",
    "    for j in range(n):\n",
    "        p=p+1\n",
    "        dirichlet[p,0] = j  \n",
    "    for j in range(n*2-1,n*(n-1),n):\n",
    "        p=p+1\n",
    "        dirichlet[p,0] = j \n",
    "    for j in range(n*n-1,n*n-n-1,-1):\n",
    "        p=p+1\n",
    "        dirichlet[p,0] = j \n",
    "    for j in range(n*n-2*n,n-1,-n):\n",
    "        p=p+1\n",
    "        dirichlet[p,0] = j \n",
    "\n",
    "    return coordinates, elements3,dirichlet, neumann"
   ]
  },
  {
   "cell_type": "code",
   "execution_count": 3,
   "metadata": {},
   "outputs": [],
   "source": [
    "def show(coordinates,u):\n",
    "#\n",
    "# Fonction d'affichage de la solution u sur le maillage defini par\n",
    "# elements3, coordinates.\n",
    "#\n",
    "# Entrees:\n",
    "# elements3 : matrice a trois colonnes contenant les elements triangles\n",
    "# de la discretisation, identifies par les indices de leurs trois\n",
    "# sommets.\n",
    "# coordinates : matrice a deux colonnes contenant les coordonnes 2D des\n",
    "# points de la discretisation.\n",
    "# u : vecteur colonne de longueur egale au nombre de lignes de\n",
    "# coordinates contenant les valeurs de la solution a afficher aux\n",
    "# points de la discretisation.\n",
    "#\n",
    "# Sorties : Aucune, mais la fonction doit s'afficher dans une figure.\n",
    "##########################################################################\n",
    "    ax= plt.figure().add_subplot(projection='3d')\n",
    "    ax.plot_trisurf(coordinates[:,0],coordinates[:,1],u,linewidth=0.2,antialiased=True)\n",
    "    plt.show()"
   ]
  },
  {
   "cell_type": "markdown",
   "metadata": {},
   "source": [
    "**Partie I : maillage triangulaire et conditions de Dirichlet**"
   ]
  },
  {
   "cell_type": "code",
   "execution_count": 4,
   "metadata": {},
   "outputs": [],
   "source": [
    "#construction de la matrice M d'un element triangle \n",
    "def matrice_locale(element, coordinates): \n",
    "    M = np.zeros((3, 3));\n",
    "    [x1,y1] = coordinates[element[0]];\n",
    "    [x2,y2] = coordinates[element[1]];\n",
    "    [x3,y3] = coordinates[element[2]];\n",
    "    x = [x1, x2, x3];\n",
    "    y = [y1, y2, y3];\n",
    "    alpha = (x2-x1)*(y3-y1) - (x3-x1)*(y2-y1);\n",
    "    \n",
    "    for i in range(3):\n",
    "        jacob_i = np.array( [ [y[(i+1)%3]-y[(i+2)%3]] , [x[(i+2)%3]-x[(i+1)%3]]] );\n",
    "        for j in range(3):\n",
    "            jacob_j = np.array( [ [y[(j+1)%3]-y[(j+2)%3]] , [x[(j+2)%3]-x[(j+1)%3]]] );\n",
    "            M[i,j] = (1/(2*alpha)) *(np.transpose(jacob_i).dot(jacob_j));\n",
    "            \n",
    "    \n",
    "    return M"
   ]
  },
  {
   "cell_type": "code",
   "execution_count": 5,
   "metadata": {},
   "outputs": [],
   "source": [
    "#assemblage de la matrice A à partir des triangles\n",
    "def assemblerA(elements3, coordinates):              \n",
    "    n = len(coordinates);\n",
    "    A = np.zeros((n,n));\n",
    "    for i in range(len(elements3)):\n",
    "        M = matrice_locale(elements3[i,:], coordinates); \n",
    "        for l in range(3):\n",
    "            for j in range(3):\n",
    "                A[elements3[i,l], elements3[i,j]] += M[l,j];\n",
    "                \n",
    "    return A"
   ]
  },
  {
   "cell_type": "code",
   "execution_count": 71,
   "metadata": {},
   "outputs": [
    {
     "name": "stdout",
     "output_type": "stream",
     "text": [
      "[[ 1.  -0.5  0.  -0.5  0.   0.   0.   0.   0. ]\n",
      " [-0.5  2.  -0.5  0.  -1.   0.   0.   0.   0. ]\n",
      " [ 0.  -0.5  1.   0.   0.  -0.5  0.   0.   0. ]\n",
      " [-0.5  0.   0.   2.  -1.   0.  -0.5  0.   0. ]\n",
      " [ 0.  -1.   0.  -1.   4.  -1.   0.  -1.   0. ]\n",
      " [ 0.   0.  -0.5  0.  -1.   2.   0.   0.  -0.5]\n",
      " [ 0.   0.   0.  -0.5  0.   0.   1.  -0.5  0. ]\n",
      " [ 0.   0.   0.   0.  -1.   0.  -0.5  2.  -0.5]\n",
      " [ 0.   0.   0.   0.   0.  -0.5  0.  -0.5  1. ]]\n"
     ]
    }
   ],
   "source": [
    "#Tester \n",
    "coordinates, elements3,dirichlet, neumann = maillage(3);\n",
    "A = assemblerA(elements3, coordinates);\n",
    "print(A)\n"
   ]
  },
  {
   "cell_type": "code",
   "execution_count": 105,
   "metadata": {},
   "outputs": [],
   "source": [
    "def ud(x,y): \n",
    "    return 1"
   ]
  },
  {
   "cell_type": "code",
   "execution_count": 106,
   "metadata": {},
   "outputs": [],
   "source": [
    "def f(x,y):\n",
    "    #return 2*((math.pi)**2)*math.sin(np.pi*x)*math.sin(np.pi*y)       #pour la partie compléments d'analyse\n",
    "    return 1"
   ]
  },
  {
   "cell_type": "code",
   "execution_count": 107,
   "metadata": {},
   "outputs": [],
   "source": [
    "#Calcul du second membre\n",
    "def second_membre(elements3, coordinates, A, dirichlet, ud):\n",
    "    b = np.zeros((len(A),1));   \n",
    "    for i in range(len(elements3)):\n",
    "        sommets = elements3[i,:];\n",
    "        [x1,y1] = coordinates[sommets[0]];\n",
    "        [x2,y2] = coordinates[sommets[1]];\n",
    "        [x3,y3] = coordinates[sommets[2]];\n",
    "        x = [x1, x2, x3];\n",
    "        y = [y1, y2, y3];\n",
    "        alpha = (x2-x1)*(y3-y1) - (x3-x1)*(y2-y1);\n",
    "        xG = (x1+x2+x3)/3 ;\n",
    "        yG = (y1+y2+y3)/3 ; \n",
    "        \n",
    "        for j in range(3):\n",
    "            b[sommets[j]] = b[sommets[j]] + (alpha/6)*f(xG, yG);\n",
    "        \n",
    "    for l in range(len(coordinates)):\n",
    "        for k in range(len(coordinates)):\n",
    "            if (k in dirichlet):\n",
    "                b[l] = b[l] - ud(coordinates[k,0], coordinates[k,1])*A[l,k];\n",
    "    \n",
    "    return b\n"
   ]
  },
  {
   "cell_type": "code",
   "execution_count": 108,
   "metadata": {},
   "outputs": [
    {
     "name": "stdout",
     "output_type": "stream",
     "text": [
      "[[ 0.04166667]\n",
      " [-0.875     ]\n",
      " [ 0.08333333]\n",
      " [-0.875     ]\n",
      " [ 4.25      ]\n",
      " [-0.875     ]\n",
      " [ 0.08333333]\n",
      " [-0.875     ]\n",
      " [ 0.04166667]]\n"
     ]
    }
   ],
   "source": [
    "#Tester \n",
    "coordinates, elements3,dirichlet, neumann = maillage(3);\n",
    "A = assemblerA(elements3, coordinates);\n",
    "b = second_membre(elements3, coordinates, A, dirichlet, ud);\n",
    "\n",
    "print(b)"
   ]
  },
  {
   "cell_type": "code",
   "execution_count": 111,
   "metadata": {},
   "outputs": [],
   "source": [
    "\n",
    "def solution_T(A,b, dirichlet) :\n",
    "    \n",
    "    #degrés de liberté\n",
    "\n",
    "    i = 0\n",
    "    b1 = np.zeros((len(b))-len(dirichlet))\n",
    "    for k in range(len(b)):\n",
    "        if k not in dirichlet:\n",
    "            b1[i] = b[k] \n",
    "            i += 1\n",
    "\n",
    "    i = 0\n",
    "    A1 = np.zeros((len(A)-len(dirichlet),len(A)))\n",
    "    for k in range(len(A)):\n",
    "        if k not in dirichlet:\n",
    "            A1[i,:] = A[k,:] \n",
    "            i += 1\n",
    "\n",
    "    i = 0\n",
    "    A2 = np.zeros((len(A1),len(A)-len(dirichlet)))\n",
    "    for k in range(len(A1[0])):\n",
    "        if k not in dirichlet:\n",
    "            A2[:,i] = A1[:,k] \n",
    "            i += 1\n",
    "\n",
    "\n",
    "\n",
    "    #resoudre le problème\n",
    "    u1 = ssl.spsolve(A2,b1)\n",
    "\n",
    "\n",
    "    i = 0\n",
    "    u = np.zeros((len(b)))\n",
    "    for k in range(len(b)):\n",
    "        if k  in dirichlet:\n",
    "            u[k] = 1\n",
    "\n",
    "        else :\n",
    "            u[k] = u1[i]\n",
    "            i+=1\n",
    "            \n",
    "    return u, A2\n",
    "\n",
    "\n"
   ]
  },
  {
   "cell_type": "code",
   "execution_count": 112,
   "metadata": {},
   "outputs": [
    {
     "data": {
      "image/png": "[encoded data removed]",
      "text/plain": [
       "<Figure size 432x288 with 1 Axes>"
      ]
     },
     "metadata": {
      "needs_background": "light"
     },
     "output_type": "display_data"
    }
   ],
   "source": [
    "#Affichage de la solution :\n",
    "\n",
    "coordinates, elements3,dirichlet, neumann = maillage(10);\n",
    "A = assemblerA(elements3, coordinates);\n",
    "b = second_membre(elements3, coordinates, A, dirichlet, ud);\n",
    "u,A2 = solution_T(A,b, dirichlet);\n",
    "show(coordinates,u)\n",
    "\n"
   ]
  },
  {
   "cell_type": "markdown",
   "metadata": {},
   "source": [
    "**Partie II : maillage mixte et ajoût des conditions de Neumann**"
   ]
  },
  {
   "cell_type": "code",
   "execution_count": 113,
   "metadata": {},
   "outputs": [],
   "source": [
    "############################# Maillage mixte ################\n",
    "e3=np.array([[1,2,12],[2,3,12],[3,4,14],[4,5,14],[2,15,3],[3,15,4]]).astype(int)\n",
    "e4=np.array([[0,1,12,11],[11,12,13,10],[12,3,14,13],[10,13,8,9],[13,14,7,8],[14,5,6,7]]).astype(int)\n",
    "dds=np.array([2,15,4,6,7,8,9,10,11,0]).astype(int)\n",
    "nns=np.array([[4,5],[5,6],[0,1],[1,2]]).astype(int)\n",
    "ccs=np.array([[0.,0.],[0.33333333333333,0],[0.53333333333333,0.],\n",
    "                      [0.66666666666667,0.33333333333333],[1.,0.47],[1,0.66666666666667],\n",
    "                     [1.,1.],[0.66666666666667,1.],[0.33333333333333,1.], [0.,1.],\n",
    "                     [0.,0.66666666666667],[0.,0.33333333333333],[0.33333333333333,0.33333333333333],\n",
    "                     [0.33333333333333,0.66666666666667],[0.66666666666667,0.66666666666667],[1.,0.]])"
   ]
  },
  {
   "cell_type": "code",
   "execution_count": 114,
   "metadata": {},
   "outputs": [],
   "source": [
    "def matrice_locale_Q(q,coordinates):\n",
    "    M = np.zeros((4,4))\n",
    "    [x1,y1] = coordinates[q[0]]\n",
    "    [x2,y2] = coordinates[q[1]]\n",
    "    [x3,y3] = coordinates[q[2]]\n",
    "    [x4,y4] = coordinates[q[3]]\n",
    "    \n",
    "    det_J = (x2-x1)*(y4-y1)-(x4-x1)*(y2-y1)\n",
    "    J = np.array([[x2-x1 , x4-x1],[y2-y1,y4-y1]])\n",
    "    B = np.linalg.inv(J.T*J)\n",
    "    a = B[0,0]\n",
    "    b = B[0,1]\n",
    "    c = B[1,1]\n",
    "    \n",
    "    \n",
    "    M[0,0] = 2 * a + 3 *b + 2*c;\n",
    "    M[0,1] = -2*a + c;\n",
    "    M[0,2] = - a  - 3*b - c;\n",
    "    M[0,3] = a - 2*c;\n",
    "    M[1,1] = 2*a-3*b + 2*c;\n",
    "    M[1,2] = a - 2 *c;\n",
    "    M[1,3] = -a + 3*b - c;\n",
    "    M[2,2] = 2 * a + 3 *b + 2*c;\n",
    "    M[2,3] = -2*a + c;\n",
    "    M[3,3] = 2 * a - 3 *b + 2*c;\n",
    "    M = M.T + M - np.diag(M)*np.eye(4,4)\n",
    "     \n",
    "    M = (det_J/6)*M\n",
    "            \n",
    "    return M"
   ]
  },
  {
   "cell_type": "code",
   "execution_count": 115,
   "metadata": {},
   "outputs": [],
   "source": [
    "#assemblage de la matrice A à partir des quadrangles et triangles\n",
    "def assemblerA_Mixte(elements3, elements4, coordinates):              \n",
    "    n = len(coordinates);\n",
    "    A = np.zeros((n,n));\n",
    "    \n",
    "    for i in range(len(elements3)):\n",
    "        M = matrice_locale(elements3[i,:], coordinates); \n",
    "        for l in range(3):\n",
    "            for j in range(3):\n",
    "                A[elements3[i,l], elements3[i,j]] += M[l,j];\n",
    "                \n",
    "    for i in range(len(elements4)):\n",
    "        M_q = matrice_locale_Q(elements4[i,:], coordinates); \n",
    "        for l in range(4):\n",
    "            for j in range(4):\n",
    "                A[elements4[i,l], elements4[i,j]] += M_q[l,j];\n",
    "                \n",
    "    return A"
   ]
  },
  {
   "cell_type": "code",
   "execution_count": 116,
   "metadata": {},
   "outputs": [
    {
     "name": "stdout",
     "output_type": "stream",
     "text": [
      "[4.39621277e+00 3.45400908e+00 3.18279953e+00 2.80029931e+00\n",
      " 2.67255682e+00 4.26789901e-16 2.21858492e+00 3.98975029e-01\n",
      " 4.39832944e-01 5.97543136e-01 1.72075762e+00 9.10396085e-01\n",
      " 9.67205157e-01 1.12271628e+00 1.44900398e+00 1.39580039e+00]\n"
     ]
    }
   ],
   "source": [
    "#Tester \n",
    "A = assemblerA_Mixte(e3,e4,ccs);\n",
    "print(np.linalg.eigvals(A))"
   ]
  },
  {
   "cell_type": "code",
   "execution_count": 117,
   "metadata": {},
   "outputs": [],
   "source": [
    "def ud(x,y) : \n",
    "    return 1"
   ]
  },
  {
   "cell_type": "code",
   "execution_count": 118,
   "metadata": {},
   "outputs": [],
   "source": [
    "def f(x,y) : \n",
    "    return 1"
   ]
  },
  {
   "cell_type": "code",
   "execution_count": 119,
   "metadata": {},
   "outputs": [],
   "source": [
    "def g(x,y) :\n",
    "    return 1"
   ]
  },
  {
   "cell_type": "code",
   "execution_count": 120,
   "metadata": {},
   "outputs": [],
   "source": [
    "#Calcul du second membre\n",
    "def second_membre_mixte(elements3, elements4, coordinates, A, dirichlet, neumann, ud):\n",
    "    b = np.zeros((len(A),1));   \n",
    "    \n",
    "#Conditions de Dirichlet\n",
    "\n",
    "    #Triangle\n",
    "    for i in range(len(elements3)):\n",
    "        sommets = elements3[i,:];\n",
    "        [x1,y1] = coordinates[sommets[0]];\n",
    "        [x2,y2] = coordinates[sommets[1]];\n",
    "        [x3,y3] = coordinates[sommets[2]];\n",
    "        x = [x1, x2, x3];\n",
    "        y = [y1, y2, y3];\n",
    "        alpha = (x2-x1)*(y3-y1) - (x3-x1)*(y2-y1);\n",
    "        xG = (x1+x2+x3)/3 ;\n",
    "        yG = (y1+y2+y3)/3 ; \n",
    "        \n",
    "        for j in range(3):\n",
    "            b[sommets[j]] = b[sommets[j]] + (alpha/6)*f(xG, yG);\n",
    "          \n",
    "    #Quadrangle\n",
    "    for i in range(len(elements4)):\n",
    "        sommets = elements4[i,:];\n",
    "        [x1,y1] = coordinates[sommets[0]];\n",
    "        [x2,y2] = coordinates[sommets[1]];\n",
    "        [x3,y3] = coordinates[sommets[2]];\n",
    "        [x4,y4] = coordinates[sommets[3]];\n",
    "        x = [x1, x2, x3, x4];\n",
    "        y = [y1, y2, y3, y4];\n",
    "        alpha = (x2-x1)*(y4-y1) - (x4-x1)*(y2-y1);\n",
    "        xG = (x1+x2+x3+x4)/4 ;\n",
    "        yG = (y1+y2+y3+y4)/4 ; \n",
    "        \n",
    "        for j in range(4):\n",
    "            b[sommets[j]] = b[sommets[j]] + (alpha/4)*f(xG, yG);\n",
    "            \n",
    "        \n",
    "    for l in range(len(coordinates)):\n",
    "        for k in range(len(coordinates)):\n",
    "            if (k in dirichlet):\n",
    "                b[l] = b[l] - ud(coordinates[k,0], coordinates[k,1])*A[l,k];\n",
    "    \n",
    "    \n",
    "#Conditions de Neumann    \n",
    "    \n",
    "    for i in range(len(neumann)) :\n",
    "        arrete = neumann[i,:];\n",
    "        [x0,y0] = coordinates[arrete[0]];\n",
    "        [x1, y1] = coordinates[arrete[1]];\n",
    "        b[arrete] = b[arrete] + (1/2)*math.sqrt(( (x0-x1)**2 + (y0-y1)**2 ))*g((x0+x1)/2, (y0+y1)/2) \n",
    "            \n",
    "        \n",
    "    return b\n"
   ]
  },
  {
   "cell_type": "code",
   "execution_count": 121,
   "metadata": {},
   "outputs": [
    {
     "name": "stdout",
     "output_type": "stream",
     "text": [
      "[[-0.30555556]\n",
      " [ 1.63888889]\n",
      " [-1.67777778]\n",
      " [ 2.11685185]\n",
      " [-1.69356874]\n",
      " [ 1.65116133]\n",
      " [-0.30555556]\n",
      " [-0.94444444]\n",
      " [-0.61111111]\n",
      " [-0.30555556]\n",
      " [-0.61111111]\n",
      " [-0.94444444]\n",
      " [ 1.31296296]\n",
      " [ 1.77777778]\n",
      " [ 1.31777778]\n",
      " [-0.35296296]]\n"
     ]
    }
   ],
   "source": [
    "A = assemblerA_Mixte(e3,e4,ccs);\n",
    "b = second_membre_mixte(e3, e4, ccs, A, dds, nns, ud);\n",
    "print(b)"
   ]
  },
  {
   "cell_type": "code",
   "execution_count": 122,
   "metadata": {},
   "outputs": [],
   "source": [
    "def solution_mixte(A, b, dds):\n",
    "\n",
    "    \n",
    "    #degrés de liberté\n",
    "\n",
    "    i = 0\n",
    "    b1 = np.zeros((len(b))-len(dds))    \n",
    "    for k in range(len(b)):                #parcours du second membre\n",
    "        if k not in dds:\n",
    "            b1[i] = b[k] \n",
    "            i += 1\n",
    "\n",
    "    i = 0\n",
    "    A1 = np.zeros((len(A)-len(dds),len(A)))  \n",
    "    for k in range(len(A)):                #parcours des lignes de A\n",
    "        if k not in dds:\n",
    "            A1[i,:] = A[k,:] \n",
    "            i += 1\n",
    "\n",
    "    i = 0\n",
    "    A2 = np.zeros((len(A1),len(A)-len(dds)))\n",
    "    for k in range(len(A1[0])):             #parcours des colonnes de A\n",
    "        if k not in dds:\n",
    "            A2[:,i] = A1[:,k] \n",
    "            i += 1\n",
    "\n",
    "\n",
    "\n",
    "    #résolution du système\n",
    "    u1 = ssl.spsolve(A2,b1)\n",
    "\n",
    "\n",
    "    i = 0\n",
    "    u = np.zeros((len(b)))\n",
    "    for k in range(len(b)):\n",
    "        if k  in dds:\n",
    "            u[k] = 1\n",
    "\n",
    "        else :\n",
    "            u[k] = u1[i]\n",
    "            i+=1\n",
    "\n",
    "    return u\n",
    "\n"
   ]
  },
  {
   "cell_type": "code",
   "execution_count": 123,
   "metadata": {},
   "outputs": [
    {
     "data": {
      "image/png": "[encoded data removed]",
      "text/plain": [
       "<Figure size 432x288 with 1 Axes>"
      ]
     },
     "metadata": {
      "needs_background": "light"
     },
     "output_type": "display_data"
    }
   ],
   "source": [
    "#Affichage de la solution :\n",
    "\n",
    "A = assemblerA_Mixte(e3,e4,ccs);\n",
    "b = second_membre_mixte(e3, e4, ccs, A, dds, nns, ud);\n",
    "u = solution_mixte(A, b, dds);\n",
    "show(ccs,u);\n",
    "\n"
   ]
  },
  {
   "cell_type": "code",
   "execution_count": 91,
   "metadata": {},
   "outputs": [],
   "source": [
    "#Compléments d'analyse du système"
   ]
  },
  {
   "cell_type": "code",
   "execution_count": 92,
   "metadata": {},
   "outputs": [],
   "source": [
    "#Solution exacte \n",
    "\n",
    "def u_ex(coordinates) :\n",
    "    u = np.zeros((len(coordinates)))\n",
    "    for i in range (len(coordinates)):\n",
    "        u[i] = math.sin(np.pi*coordinates[i,0])*math.sin(np.pi*coordinates[i,1])\n",
    "    return u\n"
   ]
  },
  {
   "cell_type": "code",
   "execution_count": 104,
   "metadata": {},
   "outputs": [
    {
     "data": {
      "image/png": "[encoded data removed]",
      "text/plain": [
       "<Figure size 432x288 with 1 Axes>"
      ]
     },
     "metadata": {
      "needs_background": "light"
     },
     "output_type": "display_data"
    },
    {
     "data": {
      "image/png": "[encoded data removed]",
      "text/plain": [
       "<Figure size 432x288 with 1 Axes>"
      ]
     },
     "metadata": {
      "needs_background": "light"
     },
     "output_type": "display_data"
    }
   ],
   "source": [
    "#Calcul de l'erreur et du nombre de non zeros \n",
    "\n",
    "n = 20;    #nombre maximale des éléments du maillage\n",
    "erreur = np.zeros((n));\n",
    "h = np.zeros((n));\n",
    "nnz = np.zeros((n));\n",
    "taille_matrice = np.zeros((n));\n",
    "\n",
    "\n",
    "for i in range (4,n):\n",
    "    \n",
    "    #Solution par discrétisation\n",
    "    coordinates, elements3,dirichlet, neumann = maillage(i);\n",
    "    A = assemblerA(elements3, coordinates);\n",
    "    b = second_membre(elements3, coordinates, A, dirichlet, ud);\n",
    "    u, A2 = solution_T(A, b, dirichlet);\n",
    "    \n",
    "    #solution exacte\n",
    "    uex = u_ex(coordinates);      \n",
    "\n",
    "    #Calcul de l'erreur\n",
    "    h[i] = math.sqrt(1/len(u));\n",
    "    erreur[i] = (h[i])*np.linalg.norm(uex-u);\n",
    "    \n",
    "    #Calcul du nombre des non zeros\n",
    "    R = np.linalg.cholesky(A2);\n",
    "    nnz[i] = np.count_nonzero(R);\n",
    "    taille_matrice[i] = i**2;\n",
    "    \n",
    "    \n",
    "    \n",
    "    \n",
    "plt.plot(np.log10(h[4:n]),np.log10(erreur[4:n]), label='log10(erreur)');\n",
    "plt.xlabel('log(h)');\n",
    "plt.plot(np.log10(h[4:n]),np.log10(h[4:n]**2), label='log10(h^2)');\n",
    "plt.plot(np.log10(h[4:n]),np.log10(h[4:n]**3), label='log10(h^3)');\n",
    "plt.legend();\n",
    "plt.title('Evolution de l erreur');\n",
    "plt.show();\n",
    "\n",
    "plt.plot(taille_matrice[4:n], nnz[4:n]);\n",
    "plt.xlabel('taille de la matrice');\n",
    "plt.ylabel('nombe des non zeros de R');\n",
    "plt.show();\n",
    "\n",
    "\n",
    "\n",
    "\n"
   ]
  },
  {
   "cell_type": "code",
   "execution_count": null,
   "metadata": {},
   "outputs": [],
   "source": []
  }
 ],
 "metadata": {
  "kernelspec": {
   "display_name": "Python 3 (ipykernel)",
   "language": "python",
   "name": "python3"
  },
  "language_info": {
   "codemirror_mode": {
    "name": "ipython",
    "version": 3
   },
   "file_extension": ".py",
   "mimetype": "text/x-python",
   "name": "python",
   "nbconvert_exporter": "python",
   "pygments_lexer": "ipython3",
   "version": "3.9.10"
  }
 },
 "nbformat": 4,
 "nbformat_minor": 4
}
