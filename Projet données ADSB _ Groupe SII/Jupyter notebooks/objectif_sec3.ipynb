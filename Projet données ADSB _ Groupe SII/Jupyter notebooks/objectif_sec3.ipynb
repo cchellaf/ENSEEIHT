{
 "cells": [
  {
   "cell_type": "code",
   "execution_count": 13,
   "metadata": {},
   "outputs": [],
   "source": [
    "import pandas as pd\n",
    "import numpy as np\n",
    "import matplotlib.pyplot as plt"
   ]
  },
  {
   "attachments": {},
   "cell_type": "markdown",
   "metadata": {},
   "source": [
    "### Classification des avions selon la pollution sonore"
   ]
  },
  {
   "cell_type": "code",
   "execution_count": 2,
   "metadata": {},
   "outputs": [],
   "source": [
    "# Load the data\n",
    "data = pd.read_csv('all_data_toulouse.csv')      #unzip file all_data_toulouse.rar in the folder Data/data_toulouse"
   ]
  },
  {
   "cell_type": "code",
   "execution_count": 3,
   "metadata": {},
   "outputs": [],
   "source": [
    "bins = [-float('inf'),0,30,60,float('inf')]\n",
    "labels = [\"bruit très faible\",\"bruit faible\",\"bruit moyen\",\"bruit élevé\"]\n",
    "bins = pd.cut(data['indice_sonore'], bins=bins, labels=labels)\n",
    "grouped = data.groupby(bins).agg(lambda x: x.tolist())"
   ]
  },
  {
   "cell_type": "code",
   "execution_count": 4,
   "metadata": {},
   "outputs": [],
   "source": [
    "grouped['age_avion'][1] =[2013]\n",
    "grouped['nombre_passagers'][1] =[224]"
   ]
  },
  {
   "cell_type": "code",
   "execution_count": 5,
   "metadata": {},
   "outputs": [],
   "source": [
    "grouped = grouped.filter(items = ['indice_sonore', 'age_avion', 'nombre_passagers'], axis=1)"
   ]
  },
  {
   "cell_type": "code",
   "execution_count": 6,
   "metadata": {},
   "outputs": [],
   "source": [
    "grouped['age_avion'] = grouped['age_avion'].apply(lambda x: [i for i in x if not pd.isnull(i)])\n",
    "grouped['nombre_passagers'] = grouped['nombre_passagers'].apply(lambda x: [i for i in x if not pd.isnull(i)])"
   ]
  },
  {
   "cell_type": "code",
   "execution_count": 8,
   "metadata": {},
   "outputs": [
    {
     "name": "stderr",
     "output_type": "stream",
     "text": [
      "c:\\Users\\chell\\AppData\\Local\\Programs\\Python\\Python39\\lib\\site-packages\\numpy\\core\\fromnumeric.py:3464: RuntimeWarning: Mean of empty slice.\n",
      "  return _methods._mean(a, axis=axis, dtype=dtype,\n"
     ]
    }
   ],
   "source": [
    "grouped['indice_sonore'] = grouped['indice_sonore'].apply(lambda x: np.mean(x))"
   ]
  },
  {
   "cell_type": "code",
   "execution_count": 9,
   "metadata": {},
   "outputs": [],
   "source": [
    "grouped['nombre_passagers']=grouped['nombre_passagers'].apply(lambda x: (np.mean(x)))\n",
    "grouped['age_avion']= grouped['age_avion'].apply(lambda x: (np.mean(x)))"
   ]
  },
  {
   "cell_type": "code",
   "execution_count": 10,
   "metadata": {},
   "outputs": [
    {
     "data": {
      "text/html": [
       "<div>\n",
       "<style scoped>\n",
       "    .dataframe tbody tr th:only-of-type {\n",
       "        vertical-align: middle;\n",
       "    }\n",
       "\n",
       "    .dataframe tbody tr th {\n",
       "        vertical-align: top;\n",
       "    }\n",
       "\n",
       "    .dataframe thead th {\n",
       "        text-align: right;\n",
       "    }\n",
       "</style>\n",
       "<table border=\"1\" class=\"dataframe\">\n",
       "  <thead>\n",
       "    <tr style=\"text-align: right;\">\n",
       "      <th></th>\n",
       "      <th>indice_sonore</th>\n",
       "      <th>age_avion</th>\n",
       "      <th>nombre_passagers</th>\n",
       "    </tr>\n",
       "    <tr>\n",
       "      <th>indice_sonore</th>\n",
       "      <th></th>\n",
       "      <th></th>\n",
       "      <th></th>\n",
       "    </tr>\n",
       "  </thead>\n",
       "  <tbody>\n",
       "    <tr>\n",
       "      <th>bruit très faible</th>\n",
       "      <td>NaN</td>\n",
       "      <td>NaN</td>\n",
       "      <td>NaN</td>\n",
       "    </tr>\n",
       "    <tr>\n",
       "      <th>bruit faible</th>\n",
       "      <td>23.763098</td>\n",
       "      <td>2013.000000</td>\n",
       "      <td>224.000000</td>\n",
       "    </tr>\n",
       "    <tr>\n",
       "      <th>bruit moyen</th>\n",
       "      <td>41.780316</td>\n",
       "      <td>2004.571429</td>\n",
       "      <td>100.200000</td>\n",
       "    </tr>\n",
       "    <tr>\n",
       "      <th>bruit élevé</th>\n",
       "      <td>79.067906</td>\n",
       "      <td>1983.928606</td>\n",
       "      <td>129.539013</td>\n",
       "    </tr>\n",
       "  </tbody>\n",
       "</table>\n",
       "</div>"
      ],
      "text/plain": [
       "                   indice_sonore    age_avion  nombre_passagers\n",
       "indice_sonore                                                  \n",
       "bruit très faible            NaN          NaN               NaN\n",
       "bruit faible           23.763098  2013.000000        224.000000\n",
       "bruit moyen            41.780316  2004.571429        100.200000\n",
       "bruit élevé            79.067906  1983.928606        129.539013"
      ]
     },
     "execution_count": 10,
     "metadata": {},
     "output_type": "execute_result"
    }
   ],
   "source": [
    "grouped"
   ]
  },
  {
   "cell_type": "code",
   "execution_count": 11,
   "metadata": {},
   "outputs": [],
   "source": [
    "# boucle sur les lignes non nulles\n",
    "for index, row in grouped.dropna().iterrows():\n",
    "    grouped.age_avion[index] = int(2023 - grouped.age_avion[index])\n",
    "    grouped.nombre_passagers[index]  = int(grouped.nombre_passagers[index] )\n",
    "grouped = grouped.rename(columns={'nombre_passagers': 'nombre_sièges'})\n",
    "grouped = grouped.rename(columns={'age_avion': 'age_moyen_avion'})"
   ]
  },
  {
   "cell_type": "code",
   "execution_count": 12,
   "metadata": {},
   "outputs": [
    {
     "data": {
      "text/html": [
       "<div>\n",
       "<style scoped>\n",
       "    .dataframe tbody tr th:only-of-type {\n",
       "        vertical-align: middle;\n",
       "    }\n",
       "\n",
       "    .dataframe tbody tr th {\n",
       "        vertical-align: top;\n",
       "    }\n",
       "\n",
       "    .dataframe thead th {\n",
       "        text-align: right;\n",
       "    }\n",
       "</style>\n",
       "<table border=\"1\" class=\"dataframe\">\n",
       "  <thead>\n",
       "    <tr style=\"text-align: right;\">\n",
       "      <th></th>\n",
       "      <th>indice_sonore</th>\n",
       "      <th>age_moyen_avion</th>\n",
       "      <th>nombre_sièges</th>\n",
       "    </tr>\n",
       "    <tr>\n",
       "      <th>indice_sonore</th>\n",
       "      <th></th>\n",
       "      <th></th>\n",
       "      <th></th>\n",
       "    </tr>\n",
       "  </thead>\n",
       "  <tbody>\n",
       "    <tr>\n",
       "      <th>bruit très faible</th>\n",
       "      <td>NaN</td>\n",
       "      <td>NaN</td>\n",
       "      <td>NaN</td>\n",
       "    </tr>\n",
       "    <tr>\n",
       "      <th>bruit faible</th>\n",
       "      <td>23.763098</td>\n",
       "      <td>10.0</td>\n",
       "      <td>224.0</td>\n",
       "    </tr>\n",
       "    <tr>\n",
       "      <th>bruit moyen</th>\n",
       "      <td>41.780316</td>\n",
       "      <td>18.0</td>\n",
       "      <td>100.0</td>\n",
       "    </tr>\n",
       "    <tr>\n",
       "      <th>bruit élevé</th>\n",
       "      <td>79.067906</td>\n",
       "      <td>39.0</td>\n",
       "      <td>129.0</td>\n",
       "    </tr>\n",
       "  </tbody>\n",
       "</table>\n",
       "</div>"
      ],
      "text/plain": [
       "                   indice_sonore  age_moyen_avion  nombre_sièges\n",
       "indice_sonore                                                   \n",
       "bruit très faible            NaN              NaN            NaN\n",
       "bruit faible           23.763098             10.0          224.0\n",
       "bruit moyen            41.780316             18.0          100.0\n",
       "bruit élevé            79.067906             39.0          129.0"
      ]
     },
     "execution_count": 12,
     "metadata": {},
     "output_type": "execute_result"
    }
   ],
   "source": [
    "grouped"
   ]
  },
  {
   "cell_type": "code",
   "execution_count": 14,
   "metadata": {},
   "outputs": [
    {
     "data": {
      "text/plain": [
       "<matplotlib.legend.Legend at 0x1b636cc4160>"
      ]
     },
     "execution_count": 14,
     "metadata": {},
     "output_type": "execute_result"
    },
    {
     "data": {
      "image/png": "[encoded data removed]",
      "text/plain": [
       "<Figure size 400x300 with 1 Axes>"
      ]
     },
     "metadata": {},
     "output_type": "display_data"
    }
   ],
   "source": [
    "colors = {\"bruit faible\": ('g'), \"bruit moyen\": ('b'), \"bruit élevé\": ('r')}\n",
    "\n",
    "# Plot des résultats avec coloration selon le cluster\n",
    "plt.figure(figsize=(4, 3))\n",
    "for index,row in grouped.dropna().iterrows():\n",
    "    plt.bar(grouped.age_moyen_avion[index], grouped.indice_sonore[index],color = colors[index], label=index)\n",
    "\n",
    "plt.title('Classification des avions selon le bruit sonore')\n",
    "plt.xlabel('Age moyen des avions')\n",
    "plt.ylabel('Indice sonore')\n",
    "plt.legend()\n"
   ]
  }
 ],
 "metadata": {
  "kernelspec": {
   "display_name": "Python 3",
   "language": "python",
   "name": "python3"
  },
  "language_info": {
   "codemirror_mode": {
    "name": "ipython",
    "version": 3
   },
   "file_extension": ".py",
   "mimetype": "text/x-python",
   "name": "python",
   "nbconvert_exporter": "python",
   "pygments_lexer": "ipython3",
   "version": "3.9.10"
  },
  "orig_nbformat": 4,
  "vscode": {
   "interpreter": {
    "hash": "f08b0a045d8eaee48b4d021a532af9e02617523d1daf5ece1e340644dcb931c2"
   }
  }
 },
 "nbformat": 4,
 "nbformat_minor": 2
}
