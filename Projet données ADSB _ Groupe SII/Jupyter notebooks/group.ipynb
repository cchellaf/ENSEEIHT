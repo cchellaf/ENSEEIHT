{
 "cells": [
  {
   "attachments": {},
   "cell_type": "markdown",
   "metadata": {},
   "source": [
    "Ce notebook permet de concaténer les données des émissions des indicateurs environnementaux et consommations du carburant des mois Semptembre-Octobre-Novembre-Décembre dans un seul fichier afin de faire de la classification avec beaucoup de données"
   ]
  },
  {
   "cell_type": "code",
   "execution_count": 1,
   "metadata": {},
   "outputs": [],
   "source": [
    "import glob\n",
    "import pandas as pd"
   ]
  },
  {
   "attachments": {},
   "cell_type": "markdown",
   "metadata": {},
   "source": [
    "### Concaténer data emission (4 mois)"
   ]
  },
  {
   "cell_type": "code",
   "execution_count": 2,
   "metadata": {},
   "outputs": [],
   "source": [
    "\n",
    "\n",
    "# set the path of the directory that contains the CSV files\n",
    "path = '../Data/Data_Emission/'\n",
    "\n",
    "# use glob to get all the CSV files in the directory\n",
    "csv_files = glob.glob(path + '*.csv')\n",
    "\n",
    "# create an empty list to store the dataframes\n",
    "dfs = []\n",
    "\n",
    "# iterate over the CSV files, read them as dataframes, and append to the list\n",
    "for csv_file in csv_files:\n",
    "    df = pd.read_csv(csv_file)\n",
    "    dfs.append(df)\n",
    "\n",
    "# concatenate the dataframes vertically using pd.concat\n",
    "merged_df = pd.concat(dfs, ignore_index=True)\n",
    "\n",
    "# write the merged dataframe to a CSV file\n",
    "merged_df.to_csv('../Data/data_toulouse/merged_emission.csv', index=False)"
   ]
  },
  {
   "attachments": {},
   "cell_type": "markdown",
   "metadata": {},
   "source": [
    "### Concaténer data consommation (4 mois)"
   ]
  },
  {
   "cell_type": "code",
   "execution_count": null,
   "metadata": {},
   "outputs": [],
   "source": [
    "\n",
    "\n",
    "# set the path of the directory that contains the CSV files\n",
    "path = '../Data/Data_Consommation/'\n",
    "\n",
    "# use glob to get all the CSV files in the directory\n",
    "csv_files = glob.glob(path + '*.csv')\n",
    "\n",
    "# create an empty list to store the dataframes\n",
    "dfs = []\n",
    "\n",
    "# iterate over the CSV files, read them as dataframes, and append to the list\n",
    "for csv_file in csv_files:\n",
    "    df = pd.read_csv(csv_file)\n",
    "    dfs.append(df)\n",
    "\n",
    "# concatenate the dataframes vertically using pd.concat\n",
    "merged_df = pd.concat(dfs, ignore_index=True)\n",
    "\n",
    "# write the merged dataframe to a CSV file\n",
    "merged_df.to_csv('../Data/data_toulouse/merged_consommation.csv', index=False)"
   ]
  }
 ],
 "metadata": {
  "kernelspec": {
   "display_name": "Python 3",
   "language": "python",
   "name": "python3"
  },
  "language_info": {
   "codemirror_mode": {
    "name": "ipython",
    "version": 3
   },
   "file_extension": ".py",
   "mimetype": "text/x-python",
   "name": "python",
   "nbconvert_exporter": "python",
   "pygments_lexer": "ipython3",
   "version": "3.9.10"
  },
  "orig_nbformat": 4,
  "vscode": {
   "interpreter": {
    "hash": "34b2230efae7f2b41b4c1583cfa04c0db4eac67689768e4ce16ef87f3c26544f"
   }
  }
 },
 "nbformat": 4,
 "nbformat_minor": 2
}
